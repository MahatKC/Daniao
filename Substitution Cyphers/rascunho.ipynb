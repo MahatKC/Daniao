{
 "metadata": {
  "language_info": {
   "codemirror_mode": {
    "name": "ipython",
    "version": 3
   },
   "file_extension": ".py",
   "mimetype": "text/x-python",
   "name": "python",
   "nbconvert_exporter": "python",
   "pygments_lexer": "ipython3",
   "version": "3.8.5"
  },
  "orig_nbformat": 4,
  "kernelspec": {
   "name": "python3",
   "display_name": "Python 3.8.5 64-bit ('base': conda)"
  },
  "interpreter": {
   "hash": "80d01b9952232eb7f083fc8f059777ea18c94fbe45e340b293d04682534625d1"
  }
 },
 "nbformat": 4,
 "nbformat_minor": 2,
 "cells": [
  {
   "cell_type": "code",
   "execution_count": 1,
   "metadata": {},
   "outputs": [
    {
     "output_type": "stream",
     "name": "stdout",
     "text": [
      "hojetaumdiabonito\n"
     ]
    }
   ],
   "source": [
    "string = \"hoje ta um dia bonito\"\n",
    "print(string.replace(\" \",\"\"))"
   ]
  },
  {
   "cell_type": "code",
   "execution_count": 5,
   "metadata": {},
   "outputs": [
    {
     "output_type": "stream",
     "name": "stdout",
     "text": [
      "o\n"
     ]
    }
   ],
   "source": [
    "print(string[-1])"
   ]
  },
  {
   "cell_type": "code",
   "execution_count": 7,
   "metadata": {},
   "outputs": [
    {
     "output_type": "stream",
     "name": "stdout",
     "text": [
      "1 2\n3 4\n5 6\n7 8\n9 10\n"
     ]
    }
   ],
   "source": [
    "for i,j in zip(range(1,10,2),range(2,11,2)):\n",
    "    print(i,j)"
   ]
  },
  {
   "cell_type": "code",
   "execution_count": 9,
   "metadata": {},
   "outputs": [
    {
     "output_type": "stream",
     "name": "stdout",
     "text": [
      "[]\n[(2, 3)]\n[(2, 3), (3, 4)]\n"
     ]
    }
   ],
   "source": [
    "lista = []\n",
    "tupla1 = (2,3)\n",
    "tupla2 = (3,4)\n",
    "print(lista)\n",
    "lista.append(tupla1)\n",
    "print(lista)\n",
    "lista.append(tupla2)\n",
    "print(lista)"
   ]
  },
  {
   "cell_type": "code",
   "execution_count": 6,
   "metadata": {},
   "outputs": [
    {
     "output_type": "execute_result",
     "data": {
      "text/plain": [
       "4"
      ]
     },
     "metadata": {},
     "execution_count": 6
    }
   ],
   "source": [
    "string.find(\" \")"
   ]
  },
  {
   "cell_type": "code",
   "execution_count": 3,
   "metadata": {},
   "outputs": [
    {
     "output_type": "stream",
     "name": "stdout",
     "text": [
      "0.0683138370513916\n0.0772862434387207\n"
     ]
    }
   ],
   "source": [
    "import time\n",
    "t0= time.time()\n",
    "for i in range(100000):\n",
    "    string = \"hoje ta um dia bonito\"\n",
    "    string.replace(\" \",\"\")\n",
    "t1= time.time()\n",
    "print(t1-t0)\n",
    "\n",
    "t0= time.time()\n",
    "for i in range(100000):\n",
    "    string = \"hoje ta um dia bonito\"\n",
    "    \"\".join(string.split(\" \"))\n",
    "t1= time.time()\n",
    "print(t1-t0)"
   ]
  },
  {
   "cell_type": "code",
   "execution_count": null,
   "metadata": {},
   "outputs": [],
   "source": []
  }
 ]
}